{
 "cells": [
  {
   "cell_type": "code",
   "execution_count": 2,
   "metadata": {},
   "outputs": [],
   "source": [
    "import pandas as pd\n",
    "import numpy as np\n",
    "import matplotlib.pyplot as plt\n",
    "import scipy.stats as sts\n",
    "import scipy.integrate as integrate\n",
    "from matplotlib.patches import Rectangle \n",
    "import scipy.special as sp\n",
    "import matplotlib.patches as patches\n",
    "import seaborn as sns\n",
    "from scipy import optimize\n",
    "import math\n",
    "%matplotlib inline"
   ]
  },
  {
   "cell_type": "code",
   "execution_count": 2,
   "metadata": {},
   "outputs": [],
   "source": [
    "teta = 1"
   ]
  },
  {
   "cell_type": "markdown",
   "metadata": {},
   "source": [
    "## $X_1, \\dots, X_n \\sim Beta(a, b)$, $\\hat{\\theta}_1  = (\\hat{a}_1,\\hat{b}_1)$  – ОМП, $ \\hat{\\theta}_2  = (\\hat{a}_2,\\hat{b}_2)$ – ОМС (Оценка методом спейсингов) . 1) Построить по выборке оценки $\\hat{\\theta}_1$ и $\\hat{\\theta}_2$ (найти численно)."
   ]
  },
  {
   "cell_type": "code",
   "execution_count": 3,
   "metadata": {},
   "outputs": [
    {
     "name": "stdout",
     "output_type": "stream",
     "text": [
      "n = 5\n",
      "EX = 0.9553213414022912 EY = 1.0313763591687775\n",
      "DX = 0.8042693403387638 DY = 1.5074305825853318\n",
      "\n",
      "n = 10\n",
      "EX = 0.9654813476111855 EY = 0.972558881657967\n",
      "DX = 0.27829796081235303 DY = 0.36040826120984015\n",
      "\n",
      "n = 20\n",
      "EX = 0.9733812631355647 EY = 0.9778643752879957\n",
      "DX = 0.11645112126864396 DY = 0.14372857311367856\n",
      "\n",
      "n = 50\n",
      "EX = 0.9954350009344878 EY = 0.9972683323630943\n",
      "DX = 0.04526037084570158 DY = 0.05524432758427895\n",
      "\n",
      "n = 100\n",
      "EX = 1.0003705831028562 EY = 1.0036836709892938\n",
      "DX = 0.02127301478376018 DY = 0.025498352651493996\n",
      "\n"
     ]
    }
   ],
   "source": [
    "arr = [5,10,20,50,100]\n",
    "\n",
    "for n in arr:\n",
    "    sample_1 = np.zeros(500)\n",
    "    sample_2 = np.zeros(500)\n",
    "    for i in range(500):\n",
    "        x = sts.cauchy(loc=teta).rvs(n)\n",
    "        def L(t):\n",
    "            n = len(x)\n",
    "            return -np.prod(1/(np.pi*(1+(x-t)**2)))\n",
    "        sample_1[i] = optimize.differential_evolution(L, [(-5, 5)])['x']\n",
    "        sample_2[i] = np.median(x)\n",
    "    EX = np.mean(sample_1)\n",
    "    EY = np.mean(sample_2)\n",
    "    print('n =',n)\n",
    "    print('EX =',EX,'EY =',EY)\n",
    "    print('DX =',np.mean((sample_1-EX)**2),'DY =',np.mean((sample_2-EY)**2),end='\\n\\n')"
   ]
  },
  {
   "cell_type": "code",
   "execution_count": 8,
   "metadata": {
    "scrolled": false
   },
   "outputs": [
    {
     "name": "stdout",
     "output_type": "stream",
     "text": [
      "n = 5\n",
      "EX = 1.9996358417865832 EY = 1.8386221512598453\n",
      "DX = 0.17467310913167103 DY = 0.18464589447300545\n",
      "\n"
     ]
    },
    {
     "data": {
      "image/png": "[encoded data removed]",
      "text/plain": [
       "<Figure size 432x288 with 1 Axes>"
      ]
     },
     "metadata": {
      "needs_background": "light"
     },
     "output_type": "display_data"
    },
    {
     "name": "stdout",
     "output_type": "stream",
     "text": [
      "n = 7\n",
      "EX = 1.9658669991472477 EY = 1.8165027049272686\n",
      "DX = 0.14081621048360554 DY = 0.13935187877857483\n",
      "\n"
     ]
    },
    {
     "data": {
      "image/png": "[encoded data removed]",
      "text/plain": [
       "<Figure size 432x288 with 1 Axes>"
      ]
     },
     "metadata": {
      "needs_background": "light"
     },
     "output_type": "display_data"
    },
    {
     "name": "stdout",
     "output_type": "stream",
     "text": [
      "n = 10\n",
      "EX = 1.9824243335231868 EY = 1.8511787413831495\n",
      "DX = 0.061110583715029705 DY = 0.06314987193982055\n",
      "\n"
     ]
    },
    {
     "data": {
      "image/png": "[encoded data removed]",
      "text/plain": [
       "<Figure size 432x288 with 1 Axes>"
      ]
     },
     "metadata": {
      "needs_background": "light"
     },
     "output_type": "display_data"
    }
   ],
   "source": [
    "arr = [5,7,10]\n",
    "teta = 2\n",
    "for n in arr:\n",
    "    sample_1 = np.zeros(100, dtype=np.float64)\n",
    "    sample_2 = np.zeros(100, dtype=np.float64)\n",
    "    for i in range(100):\n",
    "        x = sts.norm(loc=teta,scale=1).rvs(n)\n",
    "        def L(t):\n",
    "            return -np.prod(np.exp(-(x-t)**2/2)/((2*np.pi)**0.5))\n",
    "        def D(t):\n",
    "            F = np.zeros(n,dtype=np.float64)\n",
    "            for i in range(n):\n",
    "                F[i] = sts.norm(loc = t).cdf(x[i])\n",
    "            answer = F[0]\n",
    "            for k in range(1,n-1):\n",
    "                answer*=F[k]-F[k-1]\n",
    "            answer *=1-F[n-1]\n",
    "            return -answer\n",
    "        sample_1[i] = optimize.differential_evolution(L, [(-5, 5)])['x']\n",
    "        x.sort()\n",
    "        sample_2[i] = optimize.differential_evolution(D, [(-5, 5)])['x']\n",
    "    EX = np.mean(sample_1)\n",
    "    EY = np.mean(sample_2)\n",
    "    print('n =',n)\n",
    "    print('EX =',EX,'EY =',EY)\n",
    "    print('DX =',np.mean((sample_1-EX)**2),'DY =',np.mean((sample_2-EY)**2),end='\\n\\n')\n",
    "    plt.hist([(sample_1-teta)*n**0.5,(sample_2-teta)*n**0.5],color=['r','b'], label = ['ОМП','ОМС'])\n",
    "    plt.title('Histogram  where n={}'.format(n))\n",
    "    plt.legend()\n",
    "    plt.show()\n"
   ]
  },
  {
   "cell_type": "markdown",
   "metadata": {},
   "source": [
    "##   $X_1, \\dots, X_n \\sim Gamma(a, b)$, $\\hat{\\theta}_1  = (\\hat{a}_1,\\hat{b}_1)$  – ОМП, $ \\hat{\\theta}_2  = (\\hat{a}_2,\\hat{b}_2)$ – ОМС (Оценка методом спейсингов) . 1) Построить по выборке оценки $\\hat{\\theta}_1$ и $\\hat{\\theta}_2$ (найти численно)."
   ]
  },
  {
   "cell_type": "markdown",
   "metadata": {},
   "source": [
    "## Сравнить, какая из оценок $\\hat{\\theta}_1$ и $\\hat{\\theta}_2$ чаще оказывается ближе к θ при разных n, смоделировав для этого по 250 реализаций (для каждого n)."
   ]
  },
  {
   "cell_type": "code",
   "execution_count": 35,
   "metadata": {
    "scrolled": true
   },
   "outputs": [
    {
     "name": "stdout",
     "output_type": "stream",
     "text": [
      "n = 5\n",
      "OMП\n",
      "EX_a = 5.272610150774118 EX_b =  3.0429317888430405\n",
      "DX_a = 1.313112691046259 DX_b = 1.300762306823859\n",
      "\n",
      "OMС\n",
      "EX_a = 3.542092209768814 EX_b =  4.585517046695217\n",
      "DX_a = 1.9906492357299594 DX_b = 2.1062221797807843\n",
      "n = 10\n",
      "OMП\n",
      "EX_a = 5.083164175765359 EX_b =  3.1129747107884715\n",
      "DX_a = 1.0698242658595967 DX_b = 0.8324750245300547\n",
      "\n",
      "OMС\n",
      "EX_a = 4.020508960057461 EX_b =  4.012910310013904\n",
      "DX_a = 1.7363701851834625 DX_b = 1.750420136110244\n",
      "n = 15\n",
      "OMП\n",
      "EX_a = 5.068606667760061 EX_b =  3.0946217187738294\n",
      "DX_a = 1.0447208536504013 DX_b = 0.8011205722635694\n",
      "\n",
      "OMС\n",
      "EX_a = 4.310175915430124 EX_b =  3.661315201790332\n",
      "DX_a = 1.5159145999898167 DX_b = 1.3450226048933234\n"
     ]
    }
   ],
   "source": [
    "arr = [5,10,15]\n",
    "\n",
    "a,b =  5, 3 \n",
    "\n",
    "for n in arr:\n",
    "    sample_1 = np.zeros((250,2))\n",
    "    sample_2 = np.zeros((250,2))\n",
    "    for i in range(250):\n",
    "        x = sts.gamma(a,scale=b).rvs(n)\n",
    "        def L(k):\n",
    "            n = len(x)\n",
    "            return -np.prod(sts.gamma(k[0],scale=k[1]).pdf(x))\n",
    "        sample_1[i] = optimize.differential_evolution(L, [(0, 6),(0,6)])['x']\n",
    "        def D(k):\n",
    "            F = np.zeros(n,dtype=np.float64)\n",
    "            for i in range(n):\n",
    "                F[i] = sts.gamma(k[0],scale=k[1]).cdf(x[i])\n",
    "            answer = F[0]\n",
    "            for k in range(1,n-1):\n",
    "                answer*=F[k]-F[k-1]\n",
    "            answer *=1-F[n-1]\n",
    "            return -answer\n",
    "        x.sort()\n",
    "        sample_2[i] = optimize.differential_evolution(D, [(0, 6),(0,6)])['x']\n",
    "        \n",
    "    EX_a = np.mean(sample_1[:,0])\n",
    "    EX_b = np.mean(sample_1[:,1])\n",
    "    \n",
    "    print('n =',n)\n",
    "    print('OMП')\n",
    "    print('EX_a =',EX_a,'EX_b = ' ,EX_b)\n",
    "    print('DX_a =',np.mean((sample_1[:,0]-EX_a)**2),'DX_b =',np.mean((sample_1[:,1]-EX_b)**2))\n",
    "    EX_a = np.mean(sample_2[:,0])\n",
    "    EX_b = np.mean(sample_2[:,1])\n",
    "    print('\\nOMС')\n",
    "    print('EX_a =',EX_a,'EX_b = ' ,EX_b)\n",
    "    print('DX_a =',np.mean((sample_2[:,0]-EX_a)**2),'DX_b =',np.mean((sample_2[:,1]-EX_b)**2))"
   ]
  },
  {
   "cell_type": "markdown",
   "metadata": {},
   "source": [
    "## Построить гистограммы для $\\sqrt{n}(\\hat{\\theta}_i - \\theta)$ на одном графике"
   ]
  },
  {
   "cell_type": "code",
   "execution_count": 40,
   "metadata": {
    "scrolled": false
   },
   "outputs": [
    {
     "data": {
      "image/png": "[encoded data removed]",
      "text/plain": [
       "<Figure size 432x288 with 1 Axes>"
      ]
     },
     "metadata": {
      "needs_background": "light"
     },
     "output_type": "display_data"
    },
    {
     "data": {
      "image/png": "[encoded data removed]",
      "text/plain": [
       "<Figure size 432x288 with 1 Axes>"
      ]
     },
     "metadata": {
      "needs_background": "light"
     },
     "output_type": "display_data"
    }
   ],
   "source": [
    "n  = 15\n",
    "sample_1 = np.zeros((15,2))\n",
    "sample_2 = np.zeros((15,2))\n",
    "for i in range(15):\n",
    "    x = sts.gamma(a,scale=b).rvs(n)\n",
    "    def L(k):\n",
    "        n = len(x)\n",
    "        return -np.prod(sts.gamma(k[0],scale=k[1]).pdf(x))\n",
    "    sample_1[i] = optimize.differential_evolution(L, [(0, 6),(0,6)])['x']\n",
    "    def D(k):\n",
    "        F = np.zeros(n,dtype=np.float64)\n",
    "        for i in range(n):\n",
    "            F[i] = sts.gamma(k[0],scale=k[1]).cdf(x[i])\n",
    "        answer = F[0]\n",
    "        for k in range(1,n-1):\n",
    "             answer*=F[k]-F[k-1]\n",
    "        answer *=1-F[n-1]\n",
    "        return -answer\n",
    "    x.sort()\n",
    "    sample_2[i] = optimize.differential_evolution(D, [(0, 6),(0,6)])['x']\n",
    "plt.hist([(sample_1[:,0]-a)*n**0.5,(sample_2[:,0]-a)*n**0.5],color=['r','b'], label = ['ОМП для а','ОМС дл а'])\n",
    "plt.title('Histogram  where n={}'.format(n))\n",
    "plt.legend()\n",
    "plt.show()\n",
    "plt.hist([(sample_1[:,1]-b)*n**0.5,(sample_2[:,1]-b)*n**0.5],color=['r','b'], label = ['ОМП для b','ОМС дл b'])\n",
    "plt.title('Histogram  where n={}'.format(n))\n",
    "plt.legend()\n",
    "plt.show()"
   ]
  },
  {
   "cell_type": "markdown",
   "metadata": {},
   "source": [
    "## $X_1, \\dots , X_n$ – выборка из распределения, являющегося смесью $N (\\theta, exp(\\theta - 2))$ и $N(0, 1)$ c весами 1/2, 1/2. Построить график функции правдоподобия."
   ]
  },
  {
   "cell_type": "code",
   "execution_count": 48,
   "metadata": {},
   "outputs": [
    {
     "data": {
      "image/png": "[encoded data removed]",
      "text/plain": [
       "<Figure size 432x288 with 1 Axes>"
      ]
     },
     "metadata": {
      "needs_background": "light"
     },
     "output_type": "display_data"
    }
   ],
   "source": [
    "teta =3\n",
    "def L(teta,x):\n",
    "    return np.prod(sts.norm(loc = teta,scale = (1+np.exp(teta**(-2)))**0.5).pdf(x))\n",
    "n = 50\n",
    "y = np.zeros(100)\n",
    "x = sts.norm(loc = teta,scale = (1+np.exp(teta**(-2)))**0.5).rvs(n)\n",
    "t = np.linspace(-10,10,100)\n",
    "y = list(map(lambda t: L(t, x),t))\n",
    "plt.plot(t, y, label='.L for n = {}'.format(n), alpha=0.5)\n",
    "plt.ylabel('$L$')\n",
    "plt.xlabel('$\\theta$')\n",
    "plt.legend(loc = 'best')\n",
    "plt.show()"
   ]
  },
  {
   "cell_type": "markdown",
   "metadata": {},
   "source": [
    "## Сделать тоже самое для случая, когда плотность распределения $X_i$ равна взвешенной сумме плотностей $N(\\theta, exp(e^{-\\theta}))$ и $Gamma(5, 5)$ c весами 1/2, 1/2."
   ]
  },
  {
   "cell_type": "code",
   "execution_count": 75,
   "metadata": {},
   "outputs": [
    {
     "data": {
      "image/png": "[encoded data removed]",
      "text/plain": [
       "<Figure size 432x288 with 1 Axes>"
      ]
     },
     "metadata": {
      "needs_background": "light"
     },
     "output_type": "display_data"
    }
   ],
   "source": [
    "teta = 1\n",
    "def L(teta,x):\n",
    "    return np.prod(sts.norm(loc = teta,scale = (np.exp(np.exp(-teta)))**0.5).pdf(x)/2 + sts.gamma(5,scale=5).pdf(x)/2)\n",
    "n = 50\n",
    "y = np.zeros(100)\n",
    "x = sts.norm(loc = teta,scale = np.exp(np.exp(-teta))**0.5).rvs(n)/2 + sts.gamma(5,scale=5).rvs(n)/2\n",
    "t = np.linspace(-1,15,100)\n",
    "\n",
    "y = list(map(lambda t: L(t, x),t))\n",
    "plt.plot(t, y, label='.L for n = {}'.format(n), alpha=0.5)\n",
    "plt.ylabel('$L$')\n",
    "plt.xlabel('$\\theta$')\n",
    "plt.legend(loc = 'best')\n",
    "plt.show()"
   ]
  }
 ],
 "metadata": {
  "kernelspec": {
   "display_name": "Python 3",
   "language": "python",
   "name": "python3"
  },
  "language_info": {
   "codemirror_mode": {
    "name": "ipython",
    "version": 3
   },
   "file_extension": ".py",
   "mimetype": "text/x-python",
   "name": "python",
   "nbconvert_exporter": "python",
   "pygments_lexer": "ipython3",
   "version": "3.7.4"
  }
 },
 "nbformat": 4,
 "nbformat_minor": 2
}
